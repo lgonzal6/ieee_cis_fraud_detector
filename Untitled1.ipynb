{
 "cells": [
  {
   "cell_type": "code",
   "execution_count": 1,
   "id": "126337f7-9cdd-41ae-922d-0e4cbbcf06c1",
   "metadata": {},
   "outputs": [],
   "source": [
    "import pandas as pd\n",
    "import numpy as np\n",
    "import matplotlib.pyplot as plt\n",
    "import seaborn as sns\n",
    "\n",
    "from sklearn.model_selection import train_test_split, cross_val_score, GridSearchCV\n",
    "from sklearn.pipeline import Pipeline\n",
    "from sklearn.preprocessing import StandardScaler, OneHotEncoder\n",
    "\n",
    "from sklearn.neighbors import KNeighborsClassifier\n",
    "from sklearn.linear_model import LogisticRegression\n",
    "\n",
    "from sklearn.metrics import (confusion_matrix, ConfusionMatrixDisplay,\n",
    "accuracy_score, plot_roc_curve, roc_auc_score, recall_score,\n",
    "precision_score, f1_score, classification_report, RocCurveDisplay)"
   ]
  },
  {
   "cell_type": "code",
   "execution_count": 7,
   "id": "8c597dab-5ba4-44da-a85a-7a54a4452f94",
   "metadata": {},
   "outputs": [],
   "source": [
    "df_trimmed = pd.read_csv('./trimmed_data.csv')"
   ]
  },
  {
   "cell_type": "code",
   "execution_count": 8,
   "id": "5382bf63-7b5d-41ef-9993-c3b4cb834d6c",
   "metadata": {
    "tags": []
   },
   "outputs": [
    {
     "name": "stdout",
     "output_type": "stream",
     "text": [
      "<class 'pandas.core.frame.DataFrame'>\n",
      "RangeIndex: 144233 entries, 0 to 144232\n",
      "Data columns (total 85 columns):\n",
      " #   Column          Non-Null Count   Dtype  \n",
      "---  ------          --------------   -----  \n",
      " 0   TransactionID   144233 non-null  int64  \n",
      " 1   isFraud         144233 non-null  int64  \n",
      " 2   TransactionDT   144233 non-null  int64  \n",
      " 3   TransactionAmt  144233 non-null  float64\n",
      " 4   ProductCD       144233 non-null  object \n",
      " 5   card1           144233 non-null  int64  \n",
      " 6   card2           143331 non-null  float64\n",
      " 7   card3           144061 non-null  float64\n",
      " 8   card4           144049 non-null  object \n",
      " 9   card5           143277 non-null  float64\n",
      " 10  card6           144055 non-null  object \n",
      " 11  addr1           83786 non-null   float64\n",
      " 12  addr2           83786 non-null   float64\n",
      " 13  P_emaildomain   130842 non-null  object \n",
      " 14  R_emaildomain   131083 non-null  object \n",
      " 15  C2              144233 non-null  float64\n",
      " 16  C3              144233 non-null  float64\n",
      " 17  C5              144233 non-null  float64\n",
      " 18  C9              144233 non-null  float64\n",
      " 19  D1              144015 non-null  float64\n",
      " 20  D8              74926 non-null   float64\n",
      " 21  D9              74926 non-null   float64\n",
      " 22  D10             69232 non-null   float64\n",
      " 23  V12             69181 non-null   float64\n",
      " 24  V13             69181 non-null   float64\n",
      " 25  V14             69181 non-null   float64\n",
      " 26  V17             69181 non-null   float64\n",
      " 27  V21             69181 non-null   float64\n",
      " 28  V23             69181 non-null   float64\n",
      " 29  V28             69181 non-null   float64\n",
      " 30  V29             69181 non-null   float64\n",
      " 31  V30             69181 non-null   float64\n",
      " 32  V33             69181 non-null   float64\n",
      " 33  V107            144169 non-null  float64\n",
      " 34  V114            144169 non-null  float64\n",
      " 35  V117            144169 non-null  float64\n",
      " 36  V120            144169 non-null  float64\n",
      " 37  V138            81637 non-null   float64\n",
      " 38  V141            81637 non-null   float64\n",
      " 39  V147            81637 non-null   float64\n",
      " 40  V158            81637 non-null   float64\n",
      " 41  V162            81637 non-null   float64\n",
      " 42  V174            139819 non-null  float64\n",
      " 43  V197            139819 non-null  float64\n",
      " 44  V220            141106 non-null  float64\n",
      " 45  V240            130269 non-null  float64\n",
      " 46  V251            141106 non-null  float64\n",
      " 47  V257            130269 non-null  float64\n",
      " 48  V271            141106 non-null  float64\n",
      " 49  V289            144015 non-null  float64\n",
      " 50  V292            144231 non-null  float64\n",
      " 51  V301            144015 non-null  float64\n",
      " 52  V303            144231 non-null  float64\n",
      " 53  V305            144231 non-null  float64\n",
      " 54  V315            144015 non-null  float64\n",
      " 55  V325            82041 non-null   float64\n",
      " 56  V334            82041 non-null   float64\n",
      " 57  id_01           144233 non-null  float64\n",
      " 58  id_02           140872 non-null  float64\n",
      " 59  id_05           136865 non-null  float64\n",
      " 60  id_06           136865 non-null  float64\n",
      " 61  id_09           74926 non-null   float64\n",
      " 62  id_10           74926 non-null   float64\n",
      " 63  id_11           140978 non-null  float64\n",
      " 64  id_12           144233 non-null  object \n",
      " 65  id_13           127320 non-null  float64\n",
      " 66  id_14           80044 non-null   float64\n",
      " 67  id_15           140985 non-null  object \n",
      " 68  id_16           129340 non-null  object \n",
      " 69  id_17           139369 non-null  float64\n",
      " 70  id_19           139318 non-null  float64\n",
      " 71  id_20           139261 non-null  float64\n",
      " 72  id_28           140978 non-null  object \n",
      " 73  id_29           140978 non-null  object \n",
      " 74  id_30           77565 non-null   object \n",
      " 75  id_31           140282 non-null  object \n",
      " 76  id_32           77586 non-null   float64\n",
      " 77  id_33           73289 non-null   object \n",
      " 78  id_34           77805 non-null   object \n",
      " 79  id_35           140985 non-null  object \n",
      " 80  id_36           140985 non-null  object \n",
      " 81  id_37           140985 non-null  object \n",
      " 82  id_38           140985 non-null  object \n",
      " 83  DeviceType      140810 non-null  object \n",
      " 84  DeviceInfo      118666 non-null  object \n",
      "dtypes: float64(61), int64(4), object(20)\n",
      "memory usage: 93.5+ MB\n"
     ]
    }
   ],
   "source": [
    "df.info()"
   ]
  },
  {
   "cell_type": "code",
   "execution_count": 9,
   "id": "53298d26-7bca-4be2-a7f0-6db786721f63",
   "metadata": {
    "tags": []
   },
   "outputs": [
    {
     "data": {
      "text/plain": [
       "0    0.92153\n",
       "1    0.07847\n",
       "Name: isFraud, dtype: float64"
      ]
     },
     "execution_count": 9,
     "metadata": {},
     "output_type": "execute_result"
    }
   ],
   "source": [
    "df_trimmed['isFraud'].value_counts(normalize=True)"
   ]
  },
  {
   "cell_type": "code",
   "execution_count": 11,
   "id": "2f1f38a6-25ee-48da-8716-b018d3b46092",
   "metadata": {},
   "outputs": [],
   "source": [
    "data_cat = ['ProductCD',\n",
    " 'card1',\n",
    " 'card2',\n",
    " 'card3',\n",
    " 'card4',\n",
    " 'card5',\n",
    " 'card6',\n",
    " 'addr1',\n",
    " 'addr2',\n",
    " 'P_emaildomain',\n",
    " 'R_emaildomain',\n",
    " 'M1',\n",
    " 'M2',\n",
    " 'M3',\n",
    " 'M4',\n",
    " 'M5',\n",
    " 'M6',\n",
    " 'M7',\n",
    " 'M8',\n",
    " 'M9']"
   ]
  },
  {
   "cell_type": "code",
   "execution_count": 13,
   "id": "2aa8518b-c35c-4505-9121-dac6a3b690b2",
   "metadata": {
    "tags": []
   },
   "outputs": [],
   "source": [
    "cat_columns2 = [col for col in data_cat if col in df_trimmed.columns]"
   ]
  },
  {
   "cell_type": "code",
   "execution_count": 14,
   "id": "5a4be205-9880-4a00-92fa-77570bdeb9ae",
   "metadata": {
    "tags": []
   },
   "outputs": [
    {
     "data": {
      "text/plain": [
       "['ProductCD',\n",
       " 'card1',\n",
       " 'card2',\n",
       " 'card3',\n",
       " 'card4',\n",
       " 'card5',\n",
       " 'card6',\n",
       " 'addr1',\n",
       " 'addr2',\n",
       " 'P_emaildomain',\n",
       " 'R_emaildomain']"
      ]
     },
     "execution_count": 14,
     "metadata": {},
     "output_type": "execute_result"
    }
   ],
   "source": [
    "cat_columns2"
   ]
  },
  {
   "cell_type": "code",
   "execution_count": 53,
   "id": "64217397-7eff-4f19-aa77-66ef88e846b4",
   "metadata": {},
   "outputs": [],
   "source": [
    "cat_columns1 = [col for col in data_identity.columns if col in df_trimmed.columns]"
   ]
  },
  {
   "cell_type": "code",
   "execution_count": 54,
   "id": "ca7b35d8-c362-4050-b579-c1da94c31b00",
   "metadata": {},
   "outputs": [],
   "source": [
    "cat_columns = cat_columns1 + cat_columns2"
   ]
  },
  {
   "cell_type": "code",
   "execution_count": 55,
   "id": "df2e28ff-129d-4614-b61a-8fd649820845",
   "metadata": {},
   "outputs": [],
   "source": [
    "df_trimmed[cat_columns] = df_trimmed[cat_columns].astype('str')"
   ]
  },
  {
   "cell_type": "code",
   "execution_count": 56,
   "id": "ea59fbb1-4e54-41bd-92f5-8e9ccac5584f",
   "metadata": {},
   "outputs": [
    {
     "name": "stderr",
     "output_type": "stream",
     "text": [
      "/Users/luisagonzalez/opt/anaconda3/lib/python3.9/site-packages/pandas/core/frame.py:5238: SettingWithCopyWarning: \n",
      "A value is trying to be set on a copy of a slice from a DataFrame\n",
      "\n",
      "See the caveats in the documentation: https://pandas.pydata.org/pandas-docs/stable/user_guide/indexing.html#returning-a-view-versus-a-copy\n",
      "  return super().replace(\n"
     ]
    }
   ],
   "source": [
    "df_trimmed[cat_columns].replace(np.nan, 'missing', inplace=True)"
   ]
  },
  {
   "cell_type": "code",
   "execution_count": null,
   "id": "af6be75b-d723-4734-b271-851273f7cd24",
   "metadata": {},
   "outputs": [],
   "source": []
  },
  {
   "cell_type": "code",
   "execution_count": null,
   "id": "c58b5931-a383-40e8-bb46-af2b215fb3de",
   "metadata": {},
   "outputs": [],
   "source": []
  },
  {
   "cell_type": "code",
   "execution_count": null,
   "id": "ba3b95ff-a813-4063-9983-6cfd46208909",
   "metadata": {},
   "outputs": [],
   "source": []
  },
  {
   "cell_type": "code",
   "execution_count": null,
   "id": "4a83df99-f782-41f0-89b7-e08d0177cbd6",
   "metadata": {},
   "outputs": [],
   "source": []
  },
  {
   "cell_type": "code",
   "execution_count": null,
   "id": "212e4d64-ee36-4881-95ef-577346173515",
   "metadata": {},
   "outputs": [],
   "source": []
  },
  {
   "cell_type": "code",
   "execution_count": null,
   "id": "b6f71967-cf38-4341-bd25-fa2dfe3333a8",
   "metadata": {},
   "outputs": [],
   "source": []
  },
  {
   "cell_type": "code",
   "execution_count": null,
   "id": "db7f5aea-de25-48c3-bd59-95acf7bdde36",
   "metadata": {},
   "outputs": [],
   "source": []
  },
  {
   "cell_type": "code",
   "execution_count": null,
   "id": "8b63225e-bbc0-4ad7-bb9f-3b3b20c62704",
   "metadata": {},
   "outputs": [],
   "source": []
  },
  {
   "cell_type": "code",
   "execution_count": null,
   "id": "f12e84eb-4cd3-4d01-9884-1733feddcc18",
   "metadata": {},
   "outputs": [],
   "source": []
  },
  {
   "cell_type": "code",
   "execution_count": null,
   "id": "b26f2467-4700-4ed1-9bef-3c851fd32e40",
   "metadata": {},
   "outputs": [],
   "source": []
  },
  {
   "cell_type": "code",
   "execution_count": null,
   "id": "30e9ae37-bfec-465d-9f21-0382108c3f1d",
   "metadata": {},
   "outputs": [],
   "source": []
  },
  {
   "cell_type": "code",
   "execution_count": null,
   "id": "77b565bb-7d55-4113-aecf-d78ec7dafae2",
   "metadata": {},
   "outputs": [],
   "source": []
  },
  {
   "cell_type": "code",
   "execution_count": null,
   "id": "c4ad7b1e-ce16-403e-a418-c4d530d2934a",
   "metadata": {},
   "outputs": [],
   "source": []
  },
  {
   "cell_type": "code",
   "execution_count": null,
   "id": "12e52c60-3c73-4a62-8f47-d2f9845211c7",
   "metadata": {},
   "outputs": [],
   "source": []
  }
 ],
 "metadata": {
  "kernelspec": {
   "display_name": "Python 3 (ipykernel)",
   "language": "python",
   "name": "python3"
  },
  "language_info": {
   "codemirror_mode": {
    "name": "ipython",
    "version": 3
   },
   "file_extension": ".py",
   "mimetype": "text/x-python",
   "name": "python",
   "nbconvert_exporter": "python",
   "pygments_lexer": "ipython3",
   "version": "3.9.7"
  }
 },
 "nbformat": 4,
 "nbformat_minor": 5
}
